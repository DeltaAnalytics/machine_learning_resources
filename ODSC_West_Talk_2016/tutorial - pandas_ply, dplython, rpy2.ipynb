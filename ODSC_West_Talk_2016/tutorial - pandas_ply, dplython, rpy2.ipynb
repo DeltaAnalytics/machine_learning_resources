{
 "cells": [
  {
   "cell_type": "markdown",
   "metadata": {},
   "source": [
    "## Tech tutorial: clean data munging in python (or, \"R-envy for pythonistas\")\n",
    "\n",
    "Since this is a technical talk, we decided to try out three libraries we hadn't used much:\n",
    " - [pandas-ply](http://pythonhosted.org/pandas-ply/), a lightweight library from coursera\n",
    "   that adds some methods to pandas datafrmes\n",
    " - [dplython](https://github.com/dodger487/dplython), a port of the most-often-used\n",
    "   parts of the popular `dplyr` R library to python\n",
    " - [rpy2](http://rpy.sourceforge.net/rpy2/doc-dev/html/introduction.html), a library\n",
    "   allowing python code to use R that has\n",
    "   [strong pandas support](http://pandas.pydata.org/pandas-docs/stable/r_interface.html)\n",
    "\n",
    "Why not just use `R`? A few reasons:\n",
    "  - because Sara and I use python on a day-to-day basis, it's faster for\n",
    "    us to get started in python\n",
    "      - This counts for a lot on pro-bono projects where time is limited\n",
    "  - with mid-size datasets this is even more true, because R's semantics aren't\n",
    "    obvious to novices, and it's easy to unwittingly write expensive code\n",
    "  - at the outset of a data science project it's not always clear whether the whole\n",
    "    analysis will wind up being dataframe-oriented. If we wind up wanting lists, sets, or\n",
    "    dictionaries, these are much easier for us to use from python than from `R`\n",
    "  \n",
    "But R has a lot of great tools for statistical data, so it's great to get the best\n",
    "of both worlds by using `R`-inspired data manipulation libraries, and using `R` itself\n",
    "whenever the python libraries just aren't as good."
   ]
  },
  {
   "cell_type": "code",
   "execution_count": 1,
   "metadata": {
    "collapsed": false
   },
   "outputs": [
    {
     "name": "stdout",
     "output_type": "stream",
     "text": [
      "Populating the interactive namespace from numpy and matplotlib\n"
     ]
    }
   ],
   "source": [
    "from __future__ import print_function\n",
    "\n",
    "# scipy and numpy seem to be out of sync which produces a bunch of warnings we want to hide\n",
    "import warnings\n",
    "warnings.filterwarnings('ignore')\n",
    "\n",
    "%pylab inline\n",
    "import numpy as np\n",
    "import pandas as pd\n",
    "import tdx\n"
   ]
  },
  {
   "cell_type": "markdown",
   "metadata": {},
   "source": [
    "## A toy dataset and data munging problem\n",
    "\n",
    "Here's a simple pandas DataFrame. Let's imagine that we want to:\n",
    "  - ignore rows where a column `y` is bigger than 10\n",
    "  - double all the values of `x`\n",
    "  - sum up the results for each group in `label`"
   ]
  },
  {
   "cell_type": "code",
   "execution_count": 2,
   "metadata": {
    "collapsed": false
   },
   "outputs": [
    {
     "data": {
      "text/html": [
       "<div>\n",
       "<table border=\"1\" class=\"dataframe\">\n",
       "  <thead>\n",
       "    <tr style=\"text-align: right;\">\n",
       "      <th></th>\n",
       "      <th>label</th>\n",
       "      <th>x</th>\n",
       "      <th>y</th>\n",
       "    </tr>\n",
       "  </thead>\n",
       "  <tbody>\n",
       "    <tr>\n",
       "      <th>0</th>\n",
       "      <td>a</td>\n",
       "      <td>1</td>\n",
       "      <td>10</td>\n",
       "    </tr>\n",
       "    <tr>\n",
       "      <th>1</th>\n",
       "      <td>b</td>\n",
       "      <td>2</td>\n",
       "      <td>2</td>\n",
       "    </tr>\n",
       "    <tr>\n",
       "      <th>2</th>\n",
       "      <td>a</td>\n",
       "      <td>3</td>\n",
       "      <td>30</td>\n",
       "    </tr>\n",
       "    <tr>\n",
       "      <th>3</th>\n",
       "      <td>a</td>\n",
       "      <td>4</td>\n",
       "      <td>4</td>\n",
       "    </tr>\n",
       "    <tr>\n",
       "      <th>4</th>\n",
       "      <td>b</td>\n",
       "      <td>8</td>\n",
       "      <td>8</td>\n",
       "    </tr>\n",
       "    <tr>\n",
       "      <th>5</th>\n",
       "      <td>b</td>\n",
       "      <td>9</td>\n",
       "      <td>90</td>\n",
       "    </tr>\n",
       "  </tbody>\n",
       "</table>\n",
       "</div>"
      ],
      "text/plain": [
       "  label  x   y\n",
       "0     a  1  10\n",
       "1     b  2   2\n",
       "2     a  3  30\n",
       "3     a  4   4\n",
       "4     b  8   8\n",
       "5     b  9  90"
      ]
     },
     "execution_count": 2,
     "metadata": {},
     "output_type": "execute_result"
    }
   ],
   "source": [
    "dat = pd.DataFrame({\n",
    "    'label': ['a', 'b', 'a', 'a', 'b', 'b'],\n",
    "    'x':  [1, 2, 3, 4, 8, 9],\n",
    "    'y':  [10, 2, 30, 4, 8, 90],\n",
    "})\n",
    "\n",
    "dat"
   ]
  },
  {
   "cell_type": "markdown",
   "metadata": {},
   "source": [
    "### a solution in vanilla pandas code\n",
    "\n",
    "What don't I like about this?\n",
    "  - you can't do everything in a single method chain, it's a mix of indexing operations and methods\n",
    "  - the code doesn't read like sql, you have to parse each line carefully\n",
    "  - to make a new column we have to mutate the dataframe in-place, which means we either destroy the\n",
    "    original data or have to make a copy (here we use `dat_` as our copy)"
   ]
  },
  {
   "cell_type": "code",
   "execution_count": 3,
   "metadata": {
    "collapsed": false
   },
   "outputs": [
    {
     "data": {
      "text/html": [
       "<div>\n",
       "<table border=\"1\" class=\"dataframe\">\n",
       "  <thead>\n",
       "    <tr style=\"text-align: right;\">\n",
       "      <th></th>\n",
       "      <th>z</th>\n",
       "    </tr>\n",
       "    <tr>\n",
       "      <th>label</th>\n",
       "      <th></th>\n",
       "    </tr>\n",
       "  </thead>\n",
       "  <tbody>\n",
       "    <tr>\n",
       "      <th>a</th>\n",
       "      <td>8</td>\n",
       "    </tr>\n",
       "    <tr>\n",
       "      <th>b</th>\n",
       "      <td>20</td>\n",
       "    </tr>\n",
       "  </tbody>\n",
       "</table>\n",
       "</div>"
      ],
      "text/plain": [
       "        z\n",
       "label    \n",
       "a       8\n",
       "b      20"
      ]
     },
     "execution_count": 3,
     "metadata": {},
     "output_type": "execute_result"
    }
   ],
   "source": [
    "dat_ = dat[['label', 'x', 'y']]   # make a copy so that defining 'z' won't modify `dat`\n",
    "dat_ = dat_[dat['y'] < 10]        # use slice operator for dropping rows\n",
    "dat_['z'] = 2 * dat['x']          # assign to the dataframe to get a computed column\n",
    "(dat_[['label', 'z']]             # mix indexing with method chaining = code is harder to skim\n",
    " .groupby('label')\n",
    " .sum()\n",
    " )"
   ]
  },
  {
   "cell_type": "markdown",
   "metadata": {},
   "source": [
    "### what does this example look like with `pandas-ply`?\n",
    "\n",
    "The `pandas_ply` library introduces just two new methods, \n",
    "  - `ply_select`: lets you pick out columns and make new ones, like SQL `SELECT`\n",
    "  - `ply_where`: lets you drop rows, like SQL `WHERE`\n",
    "  \n",
    "Just these two methods greatly increase how much we can do with clean, functional method chaining."
   ]
  },
  {
   "cell_type": "code",
   "execution_count": 4,
   "metadata": {
    "collapsed": false
   },
   "outputs": [
    {
     "data": {
      "text/html": [
       "<div>\n",
       "<table border=\"1\" class=\"dataframe\">\n",
       "  <thead>\n",
       "    <tr style=\"text-align: right;\">\n",
       "      <th></th>\n",
       "      <th>z</th>\n",
       "    </tr>\n",
       "    <tr>\n",
       "      <th>label</th>\n",
       "      <th></th>\n",
       "    </tr>\n",
       "  </thead>\n",
       "  <tbody>\n",
       "    <tr>\n",
       "      <th>a</th>\n",
       "      <td>8</td>\n",
       "    </tr>\n",
       "    <tr>\n",
       "      <th>b</th>\n",
       "      <td>20</td>\n",
       "    </tr>\n",
       "  </tbody>\n",
       "</table>\n",
       "</div>"
      ],
      "text/plain": [
       "        z\n",
       "label    \n",
       "a       8\n",
       "b      20"
      ]
     },
     "execution_count": 4,
     "metadata": {},
     "output_type": "execute_result"
    }
   ],
   "source": [
    "import pandas_ply\n",
    "from pandas_ply import X as pX\n",
    "pandas_ply.methods.install_ply(pd)\n",
    "\n",
    "(dat\n",
    " .ply_where(pX['y'] < 10)\n",
    " .ply_select(label=pX['label'],\n",
    "             z=2*pX['x'])\n",
    " .groupby('label')\n",
    " .sum())"
   ]
  },
  {
   "cell_type": "markdown",
   "metadata": {},
   "source": [
    "### what does this example look like with `dplython`?\n",
    "\n",
    "The `dplython` package is a clone of a lot of the most popular parts of the `dplyr` library.\n",
    "\n",
    "It overloads the bitshift operator to simulate R's `%>%`."
   ]
  },
  {
   "cell_type": "code",
   "execution_count": 5,
   "metadata": {
    "collapsed": false
   },
   "outputs": [
    {
     "data": {
      "text/html": [
       "<div>\n",
       "<table border=\"1\" class=\"dataframe\">\n",
       "  <thead>\n",
       "    <tr style=\"text-align: right;\">\n",
       "      <th></th>\n",
       "      <th>label</th>\n",
       "      <th>z</th>\n",
       "    </tr>\n",
       "  </thead>\n",
       "  <tbody>\n",
       "    <tr>\n",
       "      <th>0</th>\n",
       "      <td>a</td>\n",
       "      <td>8</td>\n",
       "    </tr>\n",
       "    <tr>\n",
       "      <th>1</th>\n",
       "      <td>b</td>\n",
       "      <td>20</td>\n",
       "    </tr>\n",
       "  </tbody>\n",
       "</table>\n",
       "</div>"
      ],
      "text/plain": [
       "  label   z\n",
       "0     a   8\n",
       "1     b  20"
      ]
     },
     "execution_count": 5,
     "metadata": {},
     "output_type": "execute_result"
    }
   ],
   "source": [
    "import dplython as dp\n",
    "from dplython import X as dX\n",
    "\n",
    "(dp.DplyFrame(dat) >>\n",
    " dp.sift(dX['y'] < 10) >>              # `sift` because `filter` is a keyword in python\n",
    " dp.transmute(label=dX['label'],\n",
    "              z=2*dX['x']) >>\n",
    " dp.group_by(dX['label']) >>\n",
    " dp.summarize(z=dX['z'].sum())\n",
    ")\n",
    "# note that dplython isn't converting `label` to an index"
   ]
  },
  {
   "cell_type": "markdown",
   "metadata": {},
   "source": [
    "### Where does `pandas-ply` really shine?\n",
    "\n",
    "Here's a more complex example, that shows how method chaining in `pandas_ply` leads to much more declarative code, almost like SQL:"
   ]
  },
  {
   "cell_type": "code",
   "execution_count": 6,
   "metadata": {
    "collapsed": false
   },
   "outputs": [
    {
     "data": {
      "text/html": [
       "<div>\n",
       "<table border=\"1\" class=\"dataframe\">\n",
       "  <thead>\n",
       "    <tr style=\"text-align: right;\">\n",
       "      <th></th>\n",
       "      <th>x</th>\n",
       "      <th>y</th>\n",
       "      <th>z</th>\n",
       "    </tr>\n",
       "  </thead>\n",
       "  <tbody>\n",
       "    <tr>\n",
       "      <th>0</th>\n",
       "      <td>a</td>\n",
       "      <td>1</td>\n",
       "      <td>3.4</td>\n",
       "    </tr>\n",
       "    <tr>\n",
       "      <th>1</th>\n",
       "      <td>b</td>\n",
       "      <td>2</td>\n",
       "      <td>3.5</td>\n",
       "    </tr>\n",
       "    <tr>\n",
       "      <th>2</th>\n",
       "      <td>c</td>\n",
       "      <td>3</td>\n",
       "      <td>3.6</td>\n",
       "    </tr>\n",
       "  </tbody>\n",
       "</table>\n",
       "</div>"
      ],
      "text/plain": [
       "   x  y    z\n",
       "0  a  1  3.4\n",
       "1  b  2  3.5\n",
       "2  c  3  3.6"
      ]
     },
     "execution_count": 6,
     "metadata": {},
     "output_type": "execute_result"
    }
   ],
   "source": [
    "df_a = pd.DataFrame({'x': ['a', 'b', 'c'], 'y': [1, 2, 3], 'z': [3.4, 3.5, 3.6]})\n",
    "df_a\n"
   ]
  },
  {
   "cell_type": "code",
   "execution_count": 7,
   "metadata": {
    "collapsed": false
   },
   "outputs": [
    {
     "data": {
      "text/html": [
       "<div>\n",
       "<table border=\"1\" class=\"dataframe\">\n",
       "  <thead>\n",
       "    <tr style=\"text-align: right;\">\n",
       "      <th></th>\n",
       "      <th>v</th>\n",
       "      <th>w</th>\n",
       "      <th>x</th>\n",
       "    </tr>\n",
       "  </thead>\n",
       "  <tbody>\n",
       "    <tr>\n",
       "      <th>0</th>\n",
       "      <td>1.1</td>\n",
       "      <td>True</td>\n",
       "      <td>a</td>\n",
       "    </tr>\n",
       "    <tr>\n",
       "      <th>1</th>\n",
       "      <td>1.2</td>\n",
       "      <td>True</td>\n",
       "      <td>b</td>\n",
       "    </tr>\n",
       "    <tr>\n",
       "      <th>2</th>\n",
       "      <td>1.3</td>\n",
       "      <td>False</td>\n",
       "      <td>c</td>\n",
       "    </tr>\n",
       "    <tr>\n",
       "      <th>3</th>\n",
       "      <td>1.4</td>\n",
       "      <td>True</td>\n",
       "      <td>c</td>\n",
       "    </tr>\n",
       "  </tbody>\n",
       "</table>\n",
       "</div>"
      ],
      "text/plain": [
       "     v      w  x\n",
       "0  1.1   True  a\n",
       "1  1.2   True  b\n",
       "2  1.3  False  c\n",
       "3  1.4   True  c"
      ]
     },
     "execution_count": 7,
     "metadata": {},
     "output_type": "execute_result"
    }
   ],
   "source": [
    "df_b = pd.DataFrame({'x': ['a', 'b', 'c', 'c'], 'w': [True, True, False, True], 'v': [1.1, 1.2, 1.3, 1.4]})\n",
    "df_b"
   ]
  },
  {
   "cell_type": "code",
   "execution_count": 8,
   "metadata": {
    "collapsed": false
   },
   "outputs": [
    {
     "data": {
      "text/html": [
       "<div>\n",
       "<table border=\"1\" class=\"dataframe\">\n",
       "  <thead>\n",
       "    <tr style=\"text-align: right;\">\n",
       "      <th></th>\n",
       "      <th>x</th>\n",
       "      <th>v_max</th>\n",
       "      <th>y_doubled</th>\n",
       "    </tr>\n",
       "  </thead>\n",
       "  <tbody>\n",
       "    <tr>\n",
       "      <th>0</th>\n",
       "      <td>a</td>\n",
       "      <td>1.1</td>\n",
       "      <td>2</td>\n",
       "    </tr>\n",
       "    <tr>\n",
       "      <th>1</th>\n",
       "      <td>b</td>\n",
       "      <td>1.2</td>\n",
       "      <td>4</td>\n",
       "    </tr>\n",
       "    <tr>\n",
       "      <th>2</th>\n",
       "      <td>c</td>\n",
       "      <td>1.4</td>\n",
       "      <td>6</td>\n",
       "    </tr>\n",
       "  </tbody>\n",
       "</table>\n",
       "</div>"
      ],
      "text/plain": [
       "   x  v_max  y_doubled\n",
       "0  a    1.1          2\n",
       "1  b    1.2          4\n",
       "2  c    1.4          6"
      ]
     },
     "execution_count": 8,
     "metadata": {},
     "output_type": "execute_result"
    }
   ],
   "source": [
    "(\n",
    "    df_a\n",
    "    .ply_select(\n",
    "        x=pX['x'],\n",
    "        y_doubled=2*pX['y']\n",
    "     )\n",
    "    .set_index('x')\n",
    "    .join(\n",
    "        df_b\n",
    "        .ply_where(pX['w'])\n",
    "        .ply_select(x=pX['x'],\n",
    "                    v=pX['v'])\n",
    "     .groupby('x')\n",
    "        .max()\n",
    "     )\n",
    "    .ply_select(\n",
    "        y_doubled=pX['y_doubled'],\n",
    "        v_max=pX['v']\n",
    "    )\n",
    "    .reset_index()\n",
    ")"
   ]
  },
  {
   "cell_type": "markdown",
   "metadata": {},
   "source": [
    "### Where does `dplython` really shine?\n",
    "\n",
    "If you're already a `dplyr` expert, and you use python but can't get used to the pandas\n",
    "api, you might find `dplython` more productive in general.\n",
    "\n",
    "Personally I prefer `pandas_ply` most of the time, but there's one operation that I\n",
    "have struggled repeatedly to do in `pandas`: group a dataframe, and then reate a new column\n",
    "which is a function of the one-group dataframes.\n",
    "\n",
    "The docs suggest that `groupby` with `transform` or `apply` should do the\n",
    "trick, but I never seem to make it work. And I know from talking with colleagues that I'm not\n",
    "the only one.\n",
    "\n",
    "On the other hand `dplyr`, and hence `dplython`, have exactly the functionality I'm looking for:\n",
    "`group_by` combined with `mutate`.\n",
    "\n",
    "Here's an example: we want to group by `label` and double only the *last* `x` value for each\n",
    "group. Note that because the `dX` context manager,\n",
    "not an actual dataframe but rather a kind of \"future\" on one, we use `pipe` to send the\n",
    "`x` column to\n",
    "our function rather than passing it directly"
   ]
  },
  {
   "cell_type": "code",
   "execution_count": 9,
   "metadata": {
    "collapsed": false
   },
   "outputs": [
    {
     "data": {
      "text/html": [
       "<div>\n",
       "<table border=\"1\" class=\"dataframe\">\n",
       "  <thead>\n",
       "    <tr style=\"text-align: right;\">\n",
       "      <th></th>\n",
       "      <th>label</th>\n",
       "      <th>x</th>\n",
       "    </tr>\n",
       "  </thead>\n",
       "  <tbody>\n",
       "    <tr>\n",
       "      <th>0</th>\n",
       "      <td>a</td>\n",
       "      <td>1</td>\n",
       "    </tr>\n",
       "    <tr>\n",
       "      <th>1</th>\n",
       "      <td>b</td>\n",
       "      <td>1</td>\n",
       "    </tr>\n",
       "    <tr>\n",
       "      <th>2</th>\n",
       "      <td>a</td>\n",
       "      <td>1</td>\n",
       "    </tr>\n",
       "    <tr>\n",
       "      <th>3</th>\n",
       "      <td>b</td>\n",
       "      <td>1</td>\n",
       "    </tr>\n",
       "  </tbody>\n",
       "</table>\n",
       "</div>"
      ],
      "text/plain": [
       "  label  x\n",
       "0     a  1\n",
       "1     b  1\n",
       "2     a  1\n",
       "3     b  1"
      ]
     },
     "execution_count": 9,
     "metadata": {},
     "output_type": "execute_result"
    }
   ],
   "source": [
    "dplython_ex = pd.DataFrame({\n",
    "    'label': ['a', 'b', 'a', 'b'],\n",
    "    'x': [1, 1, 1, 1]\n",
    "})\n",
    "dplython_ex"
   ]
  },
  {
   "cell_type": "code",
   "execution_count": 10,
   "metadata": {
    "collapsed": false
   },
   "outputs": [
    {
     "data": {
      "text/html": [
       "<div>\n",
       "<table border=\"1\" class=\"dataframe\">\n",
       "  <thead>\n",
       "    <tr style=\"text-align: right;\">\n",
       "      <th></th>\n",
       "      <th>label</th>\n",
       "      <th>x</th>\n",
       "      <th>last_for_label</th>\n",
       "    </tr>\n",
       "  </thead>\n",
       "  <tbody>\n",
       "    <tr>\n",
       "      <th>0</th>\n",
       "      <td>a</td>\n",
       "      <td>1</td>\n",
       "      <td>0</td>\n",
       "    </tr>\n",
       "    <tr>\n",
       "      <th>1</th>\n",
       "      <td>b</td>\n",
       "      <td>1</td>\n",
       "      <td>0</td>\n",
       "    </tr>\n",
       "    <tr>\n",
       "      <th>2</th>\n",
       "      <td>a</td>\n",
       "      <td>1</td>\n",
       "      <td>1</td>\n",
       "    </tr>\n",
       "    <tr>\n",
       "      <th>3</th>\n",
       "      <td>b</td>\n",
       "      <td>1</td>\n",
       "      <td>1</td>\n",
       "    </tr>\n",
       "  </tbody>\n",
       "</table>\n",
       "</div>"
      ],
      "text/plain": [
       "  label  x  last_for_label\n",
       "0     a  1               0\n",
       "1     b  1               0\n",
       "2     a  1               1\n",
       "3     b  1               1"
      ]
     },
     "execution_count": 10,
     "metadata": {},
     "output_type": "execute_result"
    }
   ],
   "source": [
    "def last_index(df):\n",
    "    out = np.repeat(False, df.shape[0])\n",
    "    out[-1] = True\n",
    "    return out\n",
    "    \n",
    "(\n",
    "    dp.DplyFrame(dplython_ex) >>\n",
    "    dp.group_by(dX['label']) >>\n",
    "    dp.mutate(last_for_label=dX['x'].pipe(last_index))\n",
    ")\n",
    "    "
   ]
  },
  {
   "cell_type": "markdown",
   "metadata": {},
   "source": [
    "# R integration with python\n",
    "\n",
    "The `rpy2` module starts up an R session connected to our python interpreter.\n",
    "\n",
    "### the `rpy2` python interface\n",
    "\n",
    "We can\n",
    "  - assign python arrays and dataframes to R objects\n",
    "  - evaluate strings as code in the R session\n",
    "  - get back R vectors and data.frames as numpy arrays and pandas DataFrames\n",
    "  \n",
    "There's really only one performance concern: data is copied when you send it from python\n",
    "to R, so it's always a good idea to subsample or aggregate first if you can."
   ]
  },
  {
   "cell_type": "code",
   "execution_count": 11,
   "metadata": {
    "collapsed": false
   },
   "outputs": [
    {
     "name": "stdout",
     "output_type": "stream",
     "text": [
      "From R ----------\n",
      "'data.frame':\t6 obs. of  3 variables:\n",
      " $ label: Factor w/ 2 levels \"a\",\"b\": 1 2 1 1 2 2\n",
      " $ x    : int  1 2 3 4 8 9\n",
      " $ y    : int  10 2 30 4 8 90\n",
      "-----------------\n"
     ]
    },
    {
     "data": {
      "text/plain": [
       "array([  7.,  14.,  21.,  28.,  56.,  63.])"
      ]
     },
     "execution_count": 11,
     "metadata": {},
     "output_type": "execute_result"
    }
   ],
   "source": [
    "import rpy2\n",
    "import rpy2.robjects.pandas2ri as pandas2ri\n",
    "\n",
    "R = rpy2.robjects.r  # our handle on the R session\n",
    "Renv = rpy2.robjects.globalenv  # a dict-like interface to the global R environment (namespace)\n",
    "\n",
    "# this is what enables vector <-> numpy array and data.frame <-> pandas DataFrame\n",
    "pandas2ri.activate()\n",
    "\n",
    "Renv['dat'] = dat\n",
    "print('From R ----------')\n",
    "R('str(dat)')  # prints to console!\n",
    "print('-----------------')\n",
    "\n",
    "x_times_7 = R('dat$x * 7')\n",
    "x_times_7"
   ]
  },
  {
   "cell_type": "markdown",
   "metadata": {},
   "source": [
    "## `rpy2` via ipython magic\n",
    "\n",
    "The magic lets you mark whole cells for evaluation in R. It's great when trying\n",
    "to debug R code, and when using R plotting libraries.\n",
    "\n",
    "I personally find it hard to make nice statistical plots with python,\n",
    "so I *love* being able to send aggregated and subsampled data to R for\n",
    "plotting with ggplot2!\n",
    "\n",
    "The R session is shared between all these code blocks, so we can import libaries\n",
    "and define funcitons in one block and use them in another. Below we import\n",
    "`tidyverse` to get `ggplot2`, define some custom plots with colors we like, and\n",
    "then use them to make a barplot of our example data."
   ]
  },
  {
   "cell_type": "code",
   "execution_count": 12,
   "metadata": {
    "collapsed": true
   },
   "outputs": [],
   "source": [
    "%load_ext rpy2.ipython"
   ]
  },
  {
   "cell_type": "code",
   "execution_count": 13,
   "metadata": {
    "collapsed": false
   },
   "outputs": [
    {
     "name": "stderr",
     "output_type": "stream",
     "text": [
      "/usr/local/lib/python2.7/site-packages/rpy2/rinterface/__init__.py:185: RRuntimeWarning: Loading tidyverse: ggplot2\n",
      "Loading tidyverse: tibble\n",
      "Loading tidyverse: tidyr\n",
      "Loading tidyverse: readr\n",
      "Loading tidyverse: purrr\n",
      "Loading tidyverse: dplyr\n",
      "\n",
      "  warnings.warn(x, RRuntimeWarning)\n",
      "/usr/local/lib/python2.7/site-packages/rpy2/rinterface/__init__.py:185: RRuntimeWarning: Need help getting started? Try the cookbook for R:\n",
      "http://www.cookbook-r.com/Graphs/\n",
      "\n",
      "  warnings.warn(x, RRuntimeWarning)\n",
      "/usr/local/lib/python2.7/site-packages/rpy2/rinterface/__init__.py:185: RRuntimeWarning: Conflicts with tidy packages ---------------------------------------------------\n",
      "\n",
      "  warnings.warn(x, RRuntimeWarning)\n",
      "/usr/local/lib/python2.7/site-packages/rpy2/rinterface/__init__.py:185: RRuntimeWarning: filter(): dplyr, stats\n",
      "lag():    dplyr, stats\n",
      "\n",
      "  warnings.warn(x, RRuntimeWarning)\n"
     ]
    }
   ],
   "source": [
    "%%R\n",
    "# ^ marking a cell with %%R says evaluate it in the attached R session\n",
    "\n",
    "library(tidyverse)\n",
    "\n",
    "# delta-color-themed histogram\n",
    "geom_histogram_delta <- function(...) {\n",
    "    geom_histogram(fill = 'steelblue4', alpha = .7, color = 'steelblue4', ...)\n",
    "}\n",
    "\n",
    "# delta-color-themed bar\n",
    "geom_bar_delta <- function(...) {\n",
    "    geom_bar(fill = 'steelblue4', alpha = .7,\n",
    "             color = 'steelblue4',\n",
    "             ...)\n",
    "}"
   ]
  },
  {
   "cell_type": "code",
   "execution_count": 14,
   "metadata": {
    "collapsed": false
   },
   "outputs": [
    {
     "data": {
      "image/png": "[encoded data removed]"
     },
     "metadata": {},
     "output_type": "display_data"
    }
   ],
   "source": [
    "%%R -i dat -w 600 -h 400 -u px\n",
    "# ^ if you add a -i <python_variable> flag, the data will be converted and sent to the R session\n",
    "#   the other flags are controlling plot size\n",
    "\n",
    "ggplot(dat, aes(x=x, y=y)) +\n",
    "  geom_bar_delta(stat='identity')"
   ]
  }
 ],
 "metadata": {
  "kernelspec": {
   "display_name": "Python 2",
   "language": "python",
   "name": "python2"
  },
  "language_info": {
   "codemirror_mode": {
    "name": "ipython",
    "version": 2
   },
   "file_extension": ".py",
   "mimetype": "text/x-python",
   "name": "python",
   "nbconvert_exporter": "python",
   "pygments_lexer": "ipython2",
   "version": "2.7.11"
  }
 },
 "nbformat": 4,
 "nbformat_minor": 1
}
